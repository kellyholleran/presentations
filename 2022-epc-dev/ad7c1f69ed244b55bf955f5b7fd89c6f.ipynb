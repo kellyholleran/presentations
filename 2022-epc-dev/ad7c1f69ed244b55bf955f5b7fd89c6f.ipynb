{
 "cells": [
  {
   "cell_type": "code",
   "execution_count": 1,
   "metadata": {},
   "outputs": [],
   "source": [
    "# Common Imports\n",
    "from arcgis.gis import GIS\n",
    "import csv"
   ]
  },
  {
   "cell_type": "code",
   "execution_count": 2,
   "metadata": {},
   "outputs": [
    {
     "name": "stdout",
     "output_type": "stream",
     "text": [
      "Enter password: ········\n"
     ]
    }
   ],
   "source": [
    "# Source GIS\n",
    "source_gis = GIS(url=\"https://epndemo.maps.arcgis.com/\", username=\"kholleran_demos\")"
   ]
  },
  {
   "cell_type": "markdown",
   "metadata": {},
   "source": [
    "## <font color='red'>Add Users from CSV</font>"
   ]
  },
  {
   "cell_type": "code",
   "execution_count": 3,
   "metadata": {},
   "outputs": [
    {
     "data": {
      "text/plain": [
       "[<Role name: Viewer, description: Viewer>,\n",
       " <Role name: Data Editor, description: Data Editor>,\n",
       " <Role name: Facilitator, description: Facilitator>,\n",
       " <Role name: VelocityUser, description: User with Publisher + Veloctiy Feed, RAT & BAT privileges>,\n",
       " <Role name: [author] Partner User Type, description: Author permissions for Standard Partner User Types>,\n",
       " <Role name: Author, description: Author permissions for Standard Partner User Types>,\n",
       " <Role name: DataDownload, description: Data Download test>,\n",
       " <Role name: GeoBIM_Beta, description: Geo BIM  beta test workflows>,\n",
       " <Role name: [edit] Partner User Type, description: Editor permissions for Basic Partner User Types>,\n",
       " <Role name: [view] Partner User Type, description: Default viewer permissions for Lite Partner User Types>]"
      ]
     },
     "execution_count": 3,
     "metadata": {},
     "output_type": "execute_result"
    }
   ],
   "source": [
    "# Get Roles in org\n",
    "role_mgr = source_gis.users.roles\n",
    "org_roles = role_mgr.all()\n",
    "org_roles"
   ]
  },
  {
   "cell_type": "code",
   "execution_count": 4,
   "metadata": {},
   "outputs": [
    {
     "name": "stdout",
     "output_type": "stream",
     "text": [
      "Succesfully created user kholleran_test\n",
      "Succesfully created user jrajamohan_test\n",
      "Succesfully created user rfernandes_test\n",
      "Succesfully created user bmccardle_test\n",
      "Succesfully created user jharrington_test\n"
     ]
    }
   ],
   "source": [
    "with open(\"/arcgis/home/usermanagement.csv\", \"r\") as csvfile:\n",
    "    addusers = csv.reader(csvfile)\n",
    "    \n",
    "    # Skip the first row\n",
    "    next(addusers)\n",
    "        \n",
    "        # Format Role\n",
    "    for row in addusers:\n",
    "        update_role = 'iAAAAAAAAAAAAAAA'\n",
    "        for role in org_roles:\n",
    "            if role.name == row[6]:\n",
    "                update_role = role.role_id\n",
    "                break\n",
    "\n",
    "        # Add users\n",
    "        source_gis.users.create(username=row[1][0].lower() + row[2].lower()+ \"_test\", password='Pleasechangeme123', firstname=row[1], lastname=row[2], email=row[0], role=update_role, user_type=row[5].lower() + 'UT')\n",
    "        print(\"Succesfully created user {}\".format(row[1][0].lower() + row[2].lower()+ \"_test\"))"
   ]
  },
  {
   "cell_type": "markdown",
   "metadata": {},
   "source": [
    "## <font color='red'>Allocate Licenses</font>"
   ]
  },
  {
   "cell_type": "markdown",
   "metadata": {},
   "source": [
    "#### <font color='blue'>List of Licenses</font>"
   ]
  },
  {
   "cell_type": "code",
   "execution_count": 5,
   "metadata": {},
   "outputs": [
    {
     "name": "stdout",
     "output_type": "stream",
     "text": [
      "ArcGIS Survey123\n",
      "ArcGIS Insights\n",
      "Esri Redistricting\n",
      "ArcGIS Pro\n",
      "ArcGIS Drone2Map\n",
      "ArcGIS Image for ArcGIS Online\n",
      "ArcGIS GeoBIM\n",
      "ArcGIS for Power BI\n",
      "ArcGIS GeoPlanner\n",
      "ArcGIS AppStudio\n",
      "ArcGIS Drone2Map\n",
      "ArcGIS Workforce\n",
      "ArcGIS Community Analyst\n",
      "Runtime Analysis \n",
      "ArcGIS Navigator\n",
      "ArcGIS Collector\n",
      "ArcGIS Tracker\n",
      "Street Smart for ArcGIS Pro\n",
      "ArcGIS Business Analyst Web and Mobile Apps\n",
      "ArcGIS CityEngine\n"
     ]
    }
   ],
   "source": [
    "for license in source_gis.admin.license.all():\n",
    "    if \"listing\" in license.properties:\n",
    "        print(license.properties.listing.title)"
   ]
  },
  {
   "cell_type": "markdown",
   "metadata": {},
   "source": [
    "#### <font color='blue'>Assign Pro License</font>"
   ]
  },
  {
   "cell_type": "code",
   "execution_count": 6,
   "metadata": {},
   "outputs": [
    {
     "data": {
      "text/plain": [
       "True"
      ]
     },
     "execution_count": 6,
     "metadata": {},
     "output_type": "execute_result"
    }
   ],
   "source": [
    "pro_license = source_gis.admin.license.get('ArcGIS Pro')\n",
    "pro_entitlements=['desktopAdvN']\n",
    "pro_license.assign('jrajamohan_test', pro_entitlements)"
   ]
  },
  {
   "cell_type": "markdown",
   "metadata": {},
   "source": [
    "#### <font color='blue'>Assign Pro License with Extension</font>"
   ]
  },
  {
   "cell_type": "code",
   "execution_count": 7,
   "metadata": {},
   "outputs": [
    {
     "data": {
      "text/plain": [
       "True"
      ]
     },
     "execution_count": 7,
     "metadata": {},
     "output_type": "execute_result"
    }
   ],
   "source": [
    "pro_entitlements_ext=['desktopAdvN', 'networkAnalystN']\n",
    "pro_license.assign('kholleran_test', pro_entitlements_ext)"
   ]
  },
  {
   "cell_type": "markdown",
   "metadata": {},
   "source": [
    "#### <font color='blue'>Assign ArcGIS Field Apps and Essential Apps Bundle</font>"
   ]
  },
  {
   "cell_type": "code",
   "execution_count": 8,
   "metadata": {},
   "outputs": [],
   "source": [
    "bundles = source_gis.admin.license.bundles"
   ]
  },
  {
   "cell_type": "code",
   "execution_count": 9,
   "metadata": {},
   "outputs": [],
   "source": [
    "bm = source_gis.users.get(\"bmccardle_test\") \n",
    "\n",
    "for bundle in bundles:\n",
    "    if bundle.properties.name in ['Field Apps', 'Essential Apps']:\n",
    "        bundle.assign(bm)"
   ]
  },
  {
   "cell_type": "markdown",
   "metadata": {},
   "source": [
    "## <font color='red'>Create & Assign Groups</font>"
   ]
  },
  {
   "cell_type": "markdown",
   "metadata": {},
   "source": [
    "#### <font color='blue'>Create Group</font>"
   ]
  },
  {
   "cell_type": "code",
   "execution_count": 10,
   "metadata": {},
   "outputs": [],
   "source": [
    "group_schema = {\n",
    "    \"title\": \"EPC 2022\",\n",
    "    \"tags\": \"epc2022, group, poc\",\n",
    "    \"description\": \"My very descriptive title for one client\",\n",
    "    \"access\": 'private',\n",
    "    \"is_invitation_only\": True,\n",
    "    \"users_update_items\": False\n",
    "}\n",
    "\n",
    "group = source_gis.groups.create_from_dict(group_schema)"
   ]
  },
  {
   "cell_type": "markdown",
   "metadata": {},
   "source": [
    "#### <font color='blue'>Get Usernames</font>"
   ]
  },
  {
   "cell_type": "code",
   "execution_count": 11,
   "metadata": {},
   "outputs": [],
   "source": [
    "with open(\"/arcgis/home/usermanagement.csv\", \"r\") as csvfile:\n",
    "    addusers = csv.reader(csvfile)\n",
    "    \n",
    "    # Skip the first row\n",
    "    next(addusers)\n",
    "    \n",
    "    usernames = []\n",
    "    for row in addusers:\n",
    "        usernames.append(row[1][0].lower() + row[2].lower()+ \"_test\")"
   ]
  },
  {
   "cell_type": "markdown",
   "metadata": {},
   "source": [
    "#### <font color='blue'>Invite Users</font>"
   ]
  },
  {
   "cell_type": "code",
   "execution_count": 12,
   "metadata": {},
   "outputs": [
    {
     "name": "stdout",
     "output_type": "stream",
     "text": [
      "Succesfully added kholleran_test to group\n",
      "Succesfully added jrajamohan_test to group\n",
      "Succesfully added rfernandes_test to group\n",
      "Succesfully added bmccardle_test to group\n",
      "Succesfully added jharrington_test to group\n"
     ]
    }
   ],
   "source": [
    "for user in usernames:\n",
    "    group.add_users(user)\n",
    "    print(\"Succesfully added {} to group\".format(user))"
   ]
  },
  {
   "cell_type": "markdown",
   "metadata": {},
   "source": [
    "## <font color='red'>Delete User</font>"
   ]
  },
  {
   "cell_type": "markdown",
   "metadata": {},
   "source": [
    "#### <font color='blue'>Remove Entitlements</font>"
   ]
  },
  {
   "cell_type": "code",
   "execution_count": 13,
   "metadata": {},
   "outputs": [
    {
     "data": {
      "text/plain": [
       "True"
      ]
     },
     "execution_count": 13,
     "metadata": {},
     "output_type": "execute_result"
    }
   ],
   "source": [
    "pro_license.revoke(username='kholleran_test', entitlements=pro_entitlements_ext)\n",
    "pro_license.revoke(username='jrajamohan_test', entitlements=pro_entitlements)"
   ]
  },
  {
   "cell_type": "code",
   "execution_count": 14,
   "metadata": {},
   "outputs": [],
   "source": [
    "bundles = source_gis.admin.license.bundles\n",
    "for bundle in bundles:\n",
    "    if bundle.properties.name in ['Field Apps', 'Essential Apps']:\n",
    "        bundle.revoke(bm)"
   ]
  },
  {
   "cell_type": "markdown",
   "metadata": {},
   "source": [
    "#### <font color='blue'>Delete User</font>"
   ]
  },
  {
   "cell_type": "code",
   "execution_count": 15,
   "metadata": {},
   "outputs": [
    {
     "name": "stdout",
     "output_type": "stream",
     "text": [
      "Succesfully deleted user kholleran_test\n",
      "Succesfully deleted user jrajamohan_test\n",
      "Succesfully deleted user rfernandes_test\n",
      "Succesfully deleted user bmccardle_test\n",
      "Succesfully deleted user jharrington_test\n"
     ]
    }
   ],
   "source": [
    "with open(\"/arcgis/home/usermanagement.csv\", \"r\") as csvfile:\n",
    "    delete_users = csv.reader(csvfile)\n",
    "    \n",
    "    # Skip the first row\n",
    "    next(delete_users)\n",
    "\n",
    "    # Format Role\n",
    "    for row in delete_users:\n",
    "        deleteuser = source_gis.users.get(username=row[1][0].lower() + row[2].lower() + \"_test\")\n",
    "        deleteuser.delete()        \n",
    "        print(\"Succesfully deleted user {}\".format(row[1][0].lower() + row[2].lower()+ \"_test\"))"
   ]
  }
 ],
 "metadata": {
  "kernelspec": {
   "display_name": "Python 3 (ipykernel)",
   "language": "python",
   "name": "python3"
  },
  "language_info": {
   "codemirror_mode": {
    "name": "ipython",
    "version": 3
   },
   "file_extension": ".py",
   "mimetype": "text/x-python",
   "name": "python",
   "nbconvert_exporter": "python",
   "pygments_lexer": "ipython3",
   "version": "3.7.11"
  }
 },
 "nbformat": 4,
 "nbformat_minor": 4
}
