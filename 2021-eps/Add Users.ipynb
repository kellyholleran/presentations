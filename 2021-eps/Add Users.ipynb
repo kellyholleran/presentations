{
 "cells": [
  {
   "cell_type": "code",
   "execution_count": 1,
   "metadata": {},
   "outputs": [
    {
     "name": "stderr",
     "output_type": "stream",
     "text": [
      "/opt/conda/lib/python3.7/site-packages/arcgis/features/_data/geodataset/utils.py:15: FutureWarning: The pandas.datetime class is deprecated and will be removed from pandas in a future version. Import from datetime module instead.\n",
      "  pd.datetime,\n"
     ]
    }
   ],
   "source": [
    "# Common Imports\n",
    "from arcgis.gis import GIS\n",
    "import csv"
   ]
  },
  {
   "cell_type": "code",
   "execution_count": 2,
   "metadata": {},
   "outputs": [
    {
     "name": "stdout",
     "output_type": "stream",
     "text": [
      "Enter password: ········\n"
     ]
    }
   ],
   "source": [
    "# Source GIS\n",
    "source_gis = GIS(username=\"kholleran_demos\")"
   ]
  },
  {
   "cell_type": "markdown",
   "metadata": {},
   "source": [
    "## Add Users from CSV"
   ]
  },
  {
   "cell_type": "code",
   "execution_count": 3,
   "metadata": {},
   "outputs": [],
   "source": [
    "# Get Roles in org\n",
    "role_mgr = source_gis.users.roles\n",
    "org_roles = role_mgr.all()"
   ]
  },
  {
   "cell_type": "code",
   "execution_count": 6,
   "metadata": {},
   "outputs": [
    {
     "name": "stdout",
     "output_type": "stream",
     "text": [
      "Succesfully created user kholleran_test\n",
      "Succesfully created user jrajamohan_test\n",
      "Succesfully created user tfair_test\n",
      "Succesfully created user bsharma_test\n",
      "Succesfully created user rfernandes_test\n",
      "Succesfully created user bmccardle_test\n",
      "Succesfully created user jwilson_test\n",
      "Succesfully created user tsmith_test\n"
     ]
    }
   ],
   "source": [
    "with open(\"addusers.csv\", \"r\") as csvfile:\n",
    "    addusers = csv.reader(csvfile)\n",
    "    \n",
    "    # Skip the first row\n",
    "    next(addusers)\n",
    "\n",
    "    # Format Role\n",
    "    for row in addusers:\n",
    "        update_role = 'iAAAAAAAAAAAAAAA'\n",
    "        for role in org_roles:\n",
    "            if role.name == row[6]:\n",
    "                update_role = role.role_id\n",
    "                break\n",
    "    \n",
    "        # Add users\n",
    "        source_gis.users.create(username=row[1][0].lower() + row[2].lower() + \"_test\", password='Pleasechangeme123', firstname=row[1], lastname=row[2], email=row[0], role=update_role, user_type=row[5].lower() + 'UT')\n",
    "        print(\"Succesfully created user {}\".format(row[1][0].lower() + row[2].lower()+ \"_test\"))"
   ]
  },
  {
   "cell_type": "markdown",
   "metadata": {},
   "source": [
    "## Allocate Licenses"
   ]
  },
  {
   "cell_type": "markdown",
   "metadata": {},
   "source": [
    "#### List of Licenses"
   ]
  },
  {
   "cell_type": "code",
   "execution_count": 7,
   "metadata": {},
   "outputs": [
    {
     "name": "stdout",
     "output_type": "stream",
     "text": [
      "ArcGIS Survey123\n",
      "ArcGIS Insights\n",
      "Esri Redistricting\n",
      "ArcGIS Pro\n",
      "ArcGIS Drone2Map\n",
      "ArcGIS Image for ArcGIS Online\n",
      "ArcGIS for Power BI\n",
      "ArcGIS GeoPlanner\n",
      "ArcGIS AppStudio\n",
      "ArcGIS Drone2Map\n",
      "ArcGIS Workforce\n",
      "ArcGIS Community Analyst\n",
      "Runtime Analysis \n",
      "ArcGIS Navigator\n",
      "ArcGIS Collector\n",
      "ArcGIS Tracker\n",
      "Street Smart for ArcGIS Pro\n",
      "ArcGIS Business Analyst Web and Mobile Apps\n",
      "ArcGIS CityEngine\n"
     ]
    }
   ],
   "source": [
    "for license in source_gis.admin.license.all():\n",
    "    if \"listing\" in license.properties:\n",
    "        print(license.properties.listing.title)"
   ]
  },
  {
   "cell_type": "markdown",
   "metadata": {},
   "source": [
    "#### Assign Pro License"
   ]
  },
  {
   "cell_type": "code",
   "execution_count": 8,
   "metadata": {},
   "outputs": [
    {
     "data": {
      "text/plain": [
       "True"
      ]
     },
     "execution_count": 8,
     "metadata": {},
     "output_type": "execute_result"
    }
   ],
   "source": [
    "pro_license = source_gis.admin.license.get('ArcGIS Pro')\n",
    "pro_entitlements=['desktopAdvN']\n",
    "pro_license.assign('jrajamohan_test', pro_entitlements)"
   ]
  },
  {
   "cell_type": "markdown",
   "metadata": {},
   "source": [
    "#### Assign Pro License with Extension"
   ]
  },
  {
   "cell_type": "code",
   "execution_count": 9,
   "metadata": {},
   "outputs": [
    {
     "data": {
      "text/plain": [
       "True"
      ]
     },
     "execution_count": 9,
     "metadata": {},
     "output_type": "execute_result"
    }
   ],
   "source": [
    "pro_entitlements_ext=['desktopAdvN', 'networkAnalystN']\n",
    "pro_license.assign('kholleran_test', pro_entitlements_ext)"
   ]
  },
  {
   "cell_type": "markdown",
   "metadata": {},
   "source": [
    "#### Assign ArcGIS Field Apps and Essential Apps Bundle"
   ]
  },
  {
   "cell_type": "code",
   "execution_count": 10,
   "metadata": {},
   "outputs": [],
   "source": [
    "bundles = source_gis.admin.license.bundles\n",
    "tf = source_gis.users.get(\"tfair_test\") \n",
    "\n",
    "for bundle in bundles:\n",
    "    if bundle.properties.name in ['Field Apps', 'Essential Apps']:\n",
    "        bundle.assign(tf)"
   ]
  },
  {
   "cell_type": "markdown",
   "metadata": {},
   "source": [
    "## Delete User"
   ]
  },
  {
   "cell_type": "markdown",
   "metadata": {},
   "source": [
    "#### Remove Entitlements"
   ]
  },
  {
   "cell_type": "code",
   "execution_count": 13,
   "metadata": {},
   "outputs": [
    {
     "data": {
      "text/plain": [
       "False"
      ]
     },
     "execution_count": 13,
     "metadata": {},
     "output_type": "execute_result"
    }
   ],
   "source": [
    "pro_license.revoke(username='kholleran_test', entitlements=pro_entitlements_ext)\n",
    "pro_license.revoke(username='jrajamohan_test', entitlements=pro_entitlements)"
   ]
  },
  {
   "cell_type": "code",
   "execution_count": 18,
   "metadata": {},
   "outputs": [],
   "source": [
    "bundles = source_gis.admin.license.bundles\n",
    "for bundle in bundles:\n",
    "    if bundle.properties.name in ['Field Apps', 'Essential Apps']:\n",
    "        bundle.revoke(tf)"
   ]
  },
  {
   "cell_type": "markdown",
   "metadata": {},
   "source": [
    "#### Delete User"
   ]
  },
  {
   "cell_type": "code",
   "execution_count": 19,
   "metadata": {},
   "outputs": [
    {
     "name": "stdout",
     "output_type": "stream",
     "text": [
      "Succesfully deleted user kholleran_test\n",
      "Succesfully deleted user jrajamohan_test\n",
      "Succesfully deleted user tfair_test\n",
      "Succesfully deleted user bsharma_test\n",
      "Succesfully deleted user rfernandes_test\n",
      "Succesfully deleted user bmccardle_test\n",
      "Succesfully deleted user jwilson_test\n",
      "Succesfully deleted user tsmith_test\n"
     ]
    }
   ],
   "source": [
    "with open(\"addusers.csv\", \"r\") as csvfile:\n",
    "    delete_users = csv.reader(csvfile)\n",
    "    \n",
    "    # Skip the first row\n",
    "    next(delete_users)\n",
    "\n",
    "    # Format Role\n",
    "    for row in delete_users:\n",
    "        deleteuser = source_gis.users.get(username=row[1][0].lower() + row[2].lower() + \"_test\")\n",
    "        deleteuser.delete()        \n",
    "        print(\"Succesfully deleted user {}\".format(row[1][0].lower() + row[2].lower()+ \"_test\"))"
   ]
  }
 ],
 "metadata": {
  "kernelspec": {
   "display_name": "Python 3",
   "language": "python",
   "name": "python3"
  },
  "language_info": {
   "codemirror_mode": {
    "name": "ipython",
    "version": 3
   },
   "file_extension": ".py",
   "mimetype": "text/x-python",
   "name": "python",
   "nbconvert_exporter": "python",
   "pygments_lexer": "ipython3",
   "version": "3.7.6"
  }
 },
 "nbformat": 4,
 "nbformat_minor": 4
}
