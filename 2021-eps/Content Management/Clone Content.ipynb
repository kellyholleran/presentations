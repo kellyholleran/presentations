{
 "cells": [
  {
   "cell_type": "code",
   "execution_count": 1,
   "metadata": {},
   "outputs": [],
   "source": [
    "# Common Imports\n",
    "from arcgis.gis import GIS, Item"
   ]
  },
  {
   "cell_type": "code",
   "execution_count": 2,
   "metadata": {},
   "outputs": [
    {
     "name": "stdout",
     "output_type": "stream",
     "text": [
      "Enter password: ········\n"
     ]
    }
   ],
   "source": [
    "# Source GIS\n",
    "source_gis = GIS(url=\"https://epn.maps.arcgis.com/\", username=\"kholleran_demo\")"
   ]
  },
  {
   "cell_type": "code",
   "execution_count": 3,
   "metadata": {},
   "outputs": [
    {
     "name": "stdout",
     "output_type": "stream",
     "text": [
      "Enter password: ········\n"
     ]
    }
   ],
   "source": [
    "# Destination GIS\n",
    "dest_gis = GIS(url=\"https://epndemo.maps.arcgis.com/\", username=\"kholleran_demos\")"
   ]
  },
  {
   "cell_type": "markdown",
   "metadata": {},
   "source": [
    "## Move Content to New Org"
   ]
  },
  {
   "cell_type": "markdown",
   "metadata": {},
   "source": [
    "#### Find Content I Own"
   ]
  },
  {
   "cell_type": "code",
   "execution_count": 4,
   "metadata": {},
   "outputs": [
    {
     "name": "stdout",
     "output_type": "stream",
     "text": [
      "Snow Emergency Parking Lots: 965334e68fac43e2b82b8bf861a327c8\n"
     ]
    }
   ],
   "source": [
    "dashboard_item = source_gis.content.search(\"owner:kholleran_demo AND title:Snow Emergency Parking Lots\" , item_type=\"Dashboard\", outside_org=False, max_items=1)\n",
    "\n",
    "for dashboard in dashboard_item:\n",
    "    print(\"{}: {}\".format(dashboard.title, dashboard.id))"
   ]
  },
  {
   "cell_type": "markdown",
   "metadata": {},
   "source": [
    "#### Move Dashboard and Underlying Content"
   ]
  },
  {
   "cell_type": "code",
   "execution_count": 5,
   "metadata": {},
   "outputs": [],
   "source": [
    "cloned_dashboard = dest_gis.content.clone_items(\n",
    "    dashboard_item,\n",
    "    folder='@EPS2021',\n",
    "    copy_data=False,\n",
    "    search_existing_items=False\n",
    ")"
   ]
  },
  {
   "cell_type": "markdown",
   "metadata": {},
   "source": [
    "## Transfer Ownership of Content"
   ]
  },
  {
   "cell_type": "code",
   "execution_count": 6,
   "metadata": {},
   "outputs": [],
   "source": [
    "for fldr in dest_gis.users.me.folders:\n",
    "    if fldr['title'] == \"@EPS2021\":\n",
    "        for item in dest_gis.users.me.items(folder=fldr):\n",
    "            item.reassign_to(\"JRajamohan.EPN\")"
   ]
  }
 ],
 "metadata": {
  "kernelspec": {
   "display_name": "Python 3",
   "language": "python",
   "name": "python3"
  },
  "language_info": {
   "codemirror_mode": {
    "name": "ipython",
    "version": 3
   },
   "file_extension": ".py",
   "mimetype": "text/x-python",
   "name": "python",
   "nbconvert_exporter": "python",
   "pygments_lexer": "ipython3",
   "version": "3.7.4"
  }
 },
 "nbformat": 4,
 "nbformat_minor": 4
}
